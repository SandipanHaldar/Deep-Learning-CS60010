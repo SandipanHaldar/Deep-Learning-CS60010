{
  "nbformat": 4,
  "nbformat_minor": 0,
  "metadata": {
    "anaconda-cloud": {},
    "colab": {
      "name": "Problem_Set_01_18ME10050.ipynb",
      "provenance": [],
      "collapsed_sections": []
    },
    "kernelspec": {
      "display_name": "Python 3",
      "language": "python",
      "name": "python3"
    },
    "language_info": {
      "codemirror_mode": {
        "name": "ipython",
        "version": 3
      },
      "file_extension": ".py",
      "mimetype": "text/x-python",
      "name": "python",
      "nbconvert_exporter": "python",
      "pygments_lexer": "ipython3",
      "version": "3.6.8"
    },
    "accelerator": "GPU"
  },
  "cells": [
    {
      "cell_type": "markdown",
      "metadata": {
        "id": "nvnm3YqXF1et"
      },
      "source": [
        "\n",
        "# Problem Set 1 \n"
      ]
    },
    {
      "cell_type": "markdown",
      "metadata": {
        "id": "pK-9wPs4F1e1"
      },
      "source": [
        " **Name  : Sandipan Haldar** "
      ]
    },
    {
      "cell_type": "markdown",
      "metadata": {
        "id": "VWcIfKAnF1e3"
      },
      "source": [
        "**Roll-No : `18ME10050`** "
      ]
    },
    {
      "cell_type": "markdown",
      "metadata": {
        "id": "P8ITxsdeF1e4"
      },
      "source": [
        "**Dept : `Mehcanical`** "
      ]
    },
    {
      "cell_type": "markdown",
      "metadata": {
        "id": "C-IFdWvrF1e5"
      },
      "source": [
        "**Mail-ID : sandipanhaldar2k@gmail.com** "
      ]
    },
    {
      "cell_type": "markdown",
      "metadata": {
        "id": "idj_n4-4F1e5"
      },
      "source": [
        "## Preamble\n",
        "\n",
        "To run and solve this assignment, one must have a working IPython Notebook installation. The easiest way to set it up for both Windows and Linux is to install [Anaconda](https://docs.anaconda.com/anaconda/install/). Then save this file to your computer, run Anaconda and choose this file in Anaconda's file explorer. Use `Python 3` version. Below statements assume that you have already followed these instructions. If you are new to Python or its scientific library, Numpy, there are some nice tutorials [here](https://www.learnpython.org/) and [here](http://www.scipy-lectures.org/).\n",
        "\n",
        "To run code in a cell or to render [Markdown](https://en.wikipedia.org/wiki/Markdown)+[LaTeX](https://en.wikipedia.org/wiki/LaTeX) press `Ctr+Enter` or `[>|]`(like \"play\") button above. To edit any code or text cell [double]click on its content. To change cell type, choose \"Markdown\" or \"Code\" in the drop-down menu above.\n",
        "\n",
        "We highly encourage students to put down their answers to theoretical questions into corresponding cells below. However, if one does not know LaTeX (and would find it too hard to learn it), he/she can write it in pen-and-paper format and submit the scanned pdf. Note that the solutions to the programming problems should be submitted in the ipynb file itself.\n",
        "\n",
        "Put your solution into boxes marked with **`[double click here to add a solution]`** and press Ctr+Enter to render text. [Double]click on a cell to edit or to see its source code. You can add cells via **`+`** sign at the top left corner.\n",
        "\n",
        "Submission instructions: Please upload your completed solution file to [KGP Moodle](https://kgpmoodle.iitkgp.ac.in/moodle/login/index.php) by the due date.\n",
        "\n",
        "\n",
        "`Vector` stands for `column vector` below."
      ]
    },
    {
      "cell_type": "markdown",
      "metadata": {
        "id": "tVfDG7dfF1e6"
      },
      "source": [
        "### Problem 1: Closed-Form Maximum Likelihood\n",
        "\n",
        "**Q1.1**: The **functional Invariance** Property of Maximum Likelihood Estimate (MLE) states that, \"If $\\hat{\\theta}$ is a Maximum Likelihood Estimate (MLE) of $\\theta$ and if $g$ is a function, then $g(\\hat{\\theta})$ is an MLE of $g(\\theta)$\".\n",
        "\n",
        "Assume that we are given $n$ iid samples $(x_1, ..., x_n)$ from $P(x \\ | \\ \\theta)$ below:\n",
        "\n",
        "$P(x \\ | \\ \\theta) = \\theta^x (1 - \\theta)^{1 - x}$ for $x \\in \\{0, 1\\}$\n",
        "\n",
        "The MLE for the parameter $\\theta$ of given distribution is $\\frac{\\sum_{i=1}^n x_i}{n}$ (already worked out in class). Now, let us consider $v = g(\\theta) = (1 - \\theta)$. Compute the MLE for the parameter $v$ of the distribution **without directly using the functional invariance property stated above**:\n",
        "\n",
        "$P(x \\ | \\ v) = \\theta^x (1 - \\theta)^{1 - x}$ for $x \\in \\{0, 1\\}$\n",
        "\n",
        "**Q1.2**: Assume that we are given $2n$ iid samples $(x_1, ..., x_{2n})$ from $P(x \\ | \\ \\theta)$ below. Compute the MLE for the parameter $\\theta$ of given distribution.\n",
        "\n",
        "$P(x \\ | \\ \\theta) = \\frac{1}{2} e^{-|x-\\theta|}$\n",
        "\n",
        "_Hint: You may find [sign](https://en.wikipedia.org/wiki/Sign_function) function useful._"
      ]
    },
    {
      "cell_type": "markdown",
      "metadata": {
        "id": "CJrAwp1CF1e8"
      },
      "source": [
        "**Please see attached pdf**"
      ]
    },
    {
      "cell_type": "markdown",
      "metadata": {
        "id": "yUEJONgLaea2"
      },
      "source": [
        "### Problem 2: Gradient for Maximum Likelihood Estimation\n",
        "\n",
        "Sometimes, we can't find MLEs in closed-form, in this case, we can use an iterative scheme to solve resulting optimization problem $\\theta_{MLE} = \\arg\\max P(x \\ | \\ \\theta)$. First-order iterative schemes (e.g. Gradient Descent, Stochastic Gradient Descent, Nesterov Accelerated Gradient Descent) require gradient information at each visited point. Compute gradients for log-likelihood of the following model:\n",
        "\n",
        "- we have $X \\in \\mathbf R^{n \\times d}$ - constant data matrix, $\\mathbf x_i$ - vector corresponding to a single data point $(\\mathbf x_i \\in \\mathbf R^{d})$\n",
        "- $\\theta$ is a $d$-dimensional (unknown) weight vector\n",
        "- $\\varepsilon \\sim \\text{Fisher's Z-distribution}(d_1, d_2)$ is a $n$-dimensional (unknown) noise vector\n",
        "- and we observe vector $\\mathbf y = X\\theta + \\varepsilon$\n",
        "\n",
        "Which means that\n",
        "$$ P(y_i \\ | \\ \\mathbf x_i, \\theta, d_1, d_2) = Z(d_1, d_2) \\frac{e^{d_1(y_i - \\theta^T \\mathbf{x_i})}}{(d_1e^{2(y_i - \\theta^T \\mathbf{x_i})} + d_2)^\\frac{d_1+d_2}{2}} $$\n",
        "\n",
        "where $Z$ stands for a constant that does not depend on $\\theta$, and $d_1$ and $d_2$ are constant parameters.\n",
        "\n",
        "Denote log-likelihood as $\\mathcal L(\\theta)$ and log-likelihood for a single sample $i$ as $\\mathcal L_i(\\theta) = \\mathcal L(\\theta \\ | \\ \\mathbf x_i, y_i)$.\n",
        "\n",
        "**Q2.1**: Find $\\frac{\\partial \\mathcal L_i(\\theta)}{\\partial \\theta}$."
      ]
    },
    {
      "cell_type": "markdown",
      "metadata": {
        "id": "OYDG9kkEF1e8"
      },
      "source": [
        "**See in pdf**"
      ]
    },
    {
      "cell_type": "markdown",
      "metadata": {
        "id": "2fkb1S07F1e-"
      },
      "source": [
        "**Q2.2**: Check the result obtained in the previous section by coding an SGD for $\\mathcal L(\\theta)$ and plotting how function value changes as a function of a number of passed gradient steps. Try multiple learning rates (7e-2, 1e-3, 1e-6), explain the result. Consider $Z(d_1,d_2)=8$, $d_1=2$ and $d_2=2$ for plotting.\n",
        "\n",
        "We marked places where you are expected to add/change your own code with **`## -- ! code required`** comment."
      ]
    },
    {
      "cell_type": "code",
      "metadata": {
        "colab": {
          "base_uri": "https://localhost:8080/",
          "height": 763
        },
        "id": "cEYYZ095F1e_",
        "jupyter": {
          "outputs_hidden": false
        },
        "outputId": "368322a8-f953-4e50-8273-5fbc2ca1f88f"
      },
      "source": [
        "import numpy as np\n",
        "import matplotlib.pyplot as plt\n",
        "\n",
        "def generate_data(n=100, d=10, d1=2, d2=2):\n",
        "    X = np.random.rand(n, d)*2-1\n",
        "    theta = np.random.rand(d, 1)\n",
        "    noise = np.random.f(d1, d2, n).reshape((-1, 1))  # F-distribution\n",
        "    noise = np.log(noise) / 2  # Fisher's Z-distribution\n",
        "    return X, X @ theta + noise\n",
        "\n",
        "def loss(X, y, theta):\n",
        "    ## ! -- code required\n",
        "    z=np.matmul(X,theta)\n",
        "    s=y-z\n",
        "    l=8*(np.exp(2*s))/(2*np.exp(2*s)+2)**2\n",
        "    log_l=-np.log(l)\n",
        "    return np.sum(log_l)/X.shape[0]\n",
        "\n",
        "\n",
        "def loss_grad_i(X, Y, theta, i):\n",
        "    ## ! -- code required\n",
        "    x=X[i,:]\n",
        "    y=Y[i]\n",
        "    z=np.matmul(x.transpose(),theta)\n",
        "    s=y-z\n",
        "    ll=  (np.exp(2*s)-1)/(np.exp(2*s)+1)\n",
        "    ll*=2\n",
        "    return -ll*x\n",
        "\n",
        "\n",
        "def sgd_plot(theta_init, X, y, n_steps=100):\n",
        "    for learning_rate in [7e-2, 1e-3, 1e-6]:\n",
        "        theta = theta_init.copy()\n",
        "        losses = []\n",
        "        for step_n in range(n_steps):\n",
        "            for i in range(X.shape[0]):\n",
        "                l=loss_grad_i(X,y,theta,i)\n",
        "                theta = theta-learning_rate*l.reshape(X.shape[1],1) ## ! -- code required\n",
        "                loss_i = loss(X,y,theta) ## ! -- code required\n",
        "                losses.append(loss_i)\n",
        "        plt.plot(losses)\n",
        "        plt.show()\n",
        "    \n",
        "def main(n=100, d=10, d1=2, d2=2):\n",
        "    X, y = generate_data(n, d, d1, d2)\n",
        "    theta_init = np.random.rand(d, 1)\n",
        "    sgd_plot(theta_init, X, y)\n",
        "    \n",
        "main()"
      ],
      "execution_count": 62,
      "outputs": [
        {
          "output_type": "display_data",
          "data": {
            "image/png": "[encoded data removed]",
            "text/plain": [
              "<Figure size 432x288 with 1 Axes>"
            ]
          },
          "metadata": {
            "tags": [],
            "needs_background": "light"
          }
        },
        {
          "output_type": "display_data",
          "data": {
            "image/png": "[encoded data removed]",
            "text/plain": [
              "<Figure size 432x288 with 1 Axes>"
            ]
          },
          "metadata": {
            "tags": [],
            "needs_background": "light"
          }
        },
        {
          "output_type": "display_data",
          "data": {
            "image/png": "[encoded data removed]",
            "text/plain": [
              "<Figure size 432x288 with 1 Axes>"
            ]
          },
          "metadata": {
            "tags": [],
            "needs_background": "light"
          }
        }
      ]
    },
    {
      "cell_type": "markdown",
      "metadata": {
        "id": "_8MR2VeaF1fC"
      },
      "source": [
        "\n",
        "\n",
        "*   As we can see the loss function fluctuates when the learning rate is high which means the function faces difficulty in converging. It keeps osscilating around the minima\n",
        "*   For an average learning rate the function gradually converges as the number of steps increases\n",
        "*   When the learning rate is very small the value of loss function changes negligibly over a large number of steps. So it will take a long time to converge\n",
        "\n",
        "\n"
      ]
    },
    {
      "cell_type": "markdown",
      "metadata": {
        "id": "Rd3P13flF1fD"
      },
      "source": [
        "### Problem 3: Logistic Regression\n",
        "\n",
        "Assume that we observe data generated via the following model:\n",
        "\n",
        "- $X \\in \\mathbf R^{n \\times d}$ - constant data matrix\n",
        "- $\\theta_j \\sim \\mathcal N(0, \\sigma_\\theta)$; $\\theta$ is $d$-dimensional random vector (`This is a prior information that` $\\theta$ `follows normal distribution`)\n",
        "- $\\varepsilon_i \\sim \\text{Logistic}(0, \\sigma_\\epsilon)$; $\\varepsilon$ is $n$-dimensional random noise vector distributed according to [Logistic](https://en.wikipedia.org/wiki/Logistic_distribution) distribution\n",
        "- and we observe $\\mathbf y = \\mathbf 1[X \\theta + \\varepsilon \\geq 0]$ - boolean random vector\n",
        "\n",
        "or, in other words: there exists some data $X$, we sample weights vector $\\theta$ of the corresponding shape from multivariate normal distribution, multiply features from $X$ by weights from $\\theta$, add random logistically distributed noise to resulting numbers, and observe whether resulting (noisy) random variable exceeds zero. So we are given the data matrix X and y, we want to estimate the weight vector $\\theta$ as accurately as possible. \n",
        "\n",
        "**`Show that given model definition above, the following holds:`**\n",
        "\n",
        "**Q3.1**: $ P(y_i = 1 \\ | \\ \\theta, \\mathbf x_i) = \\text{logistic}\\Big(\\frac{\\theta^T \\mathbf x_i}{\\sigma_\\epsilon}\\Big)$\n",
        "\n",
        " where $ \\text{logistic}(x) := \\frac{1}{1+\\exp(-x)}$ is a standard [logistic function](https://en.wikipedia.org/wiki/Logistic_function#Mathematical_properties), $\\mathbf x_i$ denotes $i$-th data sample vector, $\\mathbf 1[\\dots]$ denotes indicator function. Do not get confused between standard [logistic function](https://en.wikipedia.org/wiki/Logistic_function#Mathematical_properties) and [Logistic](https://en.wikipedia.org/wiki/Logistic_distribution) distribution.\n",
        " \n",
        " **Hints:** \n",
        " \n",
        " - for a random variable $\\zeta \\sim P$ what is $P(\\zeta \\leq a)$ ? (answer: $F_{\\zeta}(a)$ - value of cumulative density function for the distribution of $\\zeta$)"
      ]
    },
    {
      "cell_type": "markdown",
      "metadata": {
        "id": "ORzZUli-F1fD"
      },
      "source": [
        "**`[double click here to add a solution]`**"
      ]
    },
    {
      "cell_type": "markdown",
      "metadata": {
        "id": "boFssCLNF1fD"
      },
      "source": [
        "Let us consider $\\sigma_{\\epsilon} = 1$ everywhere further.\n",
        "\n",
        "**Q3.2**: $ P(y_i \\ | \\ \\theta, \\mathbf x_i) = (\\text{logistic}(\\theta^T \\mathbf x_i))^{y_i} (1-\\text{logistic}(\\theta^T \\mathbf x_i))^{(1-y_i)}$"
      ]
    },
    {
      "cell_type": "markdown",
      "metadata": {
        "id": "w33uDsx8F1fD"
      },
      "source": [
        "**`[double click here to add a solution]`**"
      ]
    },
    {
      "cell_type": "markdown",
      "metadata": {
        "id": "Ul5410VkF1fD"
      },
      "source": [
        "**Q3.3**: $ \\log P(y_i \\ | \\ \\theta, \\mathbf x_i) = y_i \\theta^T \\mathbf x_i - \\log(1 + \\exp(\\theta^T \\mathbf x_i))$"
      ]
    },
    {
      "cell_type": "markdown",
      "metadata": {
        "id": "yCWko5RfF1fD"
      },
      "source": [
        "**`[double click here to add a solution]`**"
      ]
    },
    {
      "cell_type": "markdown",
      "metadata": {
        "id": "8HpmL4NmF1fE"
      },
      "source": [
        "The vector $\\mathbf 1_{n \\times 1}$ denotes column of ones.\n",
        "\n",
        "**Q3.4**: $ \\mathcal L_{MLE}(\\theta) = \\log P(\\mathbf y \\ | \\ X, \\theta) = y^T X \\theta - \\mathbf 1_{n \\times 1}^T \\cdot \\log(\\mathbf 1_{n \\times 1} + \\exp(X \\theta)) $"
      ]
    },
    {
      "cell_type": "markdown",
      "metadata": {
        "id": "3FEQ5VHiF1fF"
      },
      "source": [
        "**`[double click here to add a solution]`**"
      ]
    },
    {
      "cell_type": "markdown",
      "metadata": {
        "id": "1KXsXCtyF1fF"
      },
      "source": [
        "**Q3.5**: $\\frac{\\partial \\mathcal L_{MLE}(\\theta)}{\\partial \\theta} = X^T(y - \\text{logistic}(X\\theta))) $"
      ]
    },
    {
      "cell_type": "markdown",
      "metadata": {
        "id": "exVcWwPUF1fG"
      },
      "source": [
        "**`[double click here to add a solution]`**"
      ]
    },
    {
      "cell_type": "markdown",
      "metadata": {
        "id": "jLgbcKX7F1fH"
      },
      "source": [
        "### Problem 4: Coding Logistic Regression\n"
      ]
    },
    {
      "cell_type": "markdown",
      "metadata": {
        "id": "etbSi4OnPJRp"
      },
      "source": [
        "Here's the code that generates data according to model specification (**Problem 3**). You needn't change it."
      ]
    },
    {
      "cell_type": "code",
      "metadata": {
        "id": "IXQNVPlNF1fH",
        "jupyter": {
          "outputs_hidden": false
        }
      },
      "source": [
        "import numpy as np\n",
        "import matplotlib.pyplot as plt\n",
        "\n",
        "def generate_logistic_regression_data(n_samples=200, k_featues=2, sigma_eps=0.1, \n",
        "                                      sigma_theta=1, feature_correlation_rate=0, train_test_ratio=4):\n",
        "    assert 0 <= feature_correlation_rate <= 1\n",
        "    X_noncorr = np.random.rand(n_samples, k_featues)*2-1 # [0, 1] -> [-1, 1] center around zero\n",
        "    mixture_matrix = np.eye(k_featues)*(1-feature_correlation_rate) + feature_correlation_rate/k_featues\n",
        "    X = X_noncorr @ mixture_matrix\n",
        "    theta_real = np.random.normal(scale=sigma_theta, size=k_featues)[:, np.newaxis] # column\n",
        "    noise = np.random.logistic(scale=sigma_eps, size=n_samples)[:, np.newaxis]\n",
        "    y = ((X @ theta_real + noise) > 0).astype(np.int16)\n",
        "    split_idx = int(n_samples * train_test_ratio / (train_test_ratio + 1))\n",
        "    return X[:split_idx, :], y[:split_idx], X[split_idx:, :], y[split_idx:], theta_real"
      ],
      "execution_count": 8,
      "outputs": []
    },
    {
      "cell_type": "markdown",
      "metadata": {
        "id": "XZpABA1EF1fI"
      },
      "source": [
        "**Q4.1**: Write (by filling in the missing code below) Gradient Descent and Stochastic Gradient Descent algorithm for the MLE loss and plot \n",
        "\n",
        "- MLE loss\n",
        "- Decision Boundary (for 2D data)\n",
        "\n",
        "Use results from **Q3.5**. Note that our loss is $loss(\\theta) = -\\mathcal L(\\theta)$ and it is usually referred to as \"the negative log-likelihood\"."
      ]
    },
    {
      "cell_type": "code",
      "metadata": {
        "id": "T2917BEDF1fI"
      },
      "source": [
        "from numpy.linalg import norm\n",
        "from scipy.spatial.distance import cosine\n",
        "import matplotlib.cm as cm\n",
        "import numpy as np\n",
        "\n",
        "def logistic_loss(X, y, theta_current, lambd):\n",
        "    n=X.shape[0];\n",
        "    p=np.matmul(y.transpose(),np.matmul(X,theta_current))\n",
        "    one=np.ones((1,n))\n",
        "    s=np.matmul(X,theta_current)\n",
        "    l=np.log(one.transpose()+np.exp(s))\n",
        "    p1=np.matmul(one,l)\n",
        "    #print(l)\n",
        "    return -(p-p1)/X.shape[0] ## ! -- code required\n",
        "\n",
        "def logistic_loss_gradient(X, y, theta_current, lambd):\n",
        "    z=np.matmul(X,theta_current)\n",
        "    val=y-1/(1+np.exp(-z))\n",
        "    ans=np.matmul(X.transpose(),val)\n",
        "    return -ans\n",
        "    ## ! -- code required\n",
        "\n",
        "def logistic_loss_single_gradient(X, y, smaple_id, theta_current, lambd):\n",
        "    x_i = X[smaple_id].reshape((1, -1))\n",
        "    y_i = y[smaple_id].reshape((1, 1))\n",
        "    return logistic_loss_gradient(x_i, y_i, theta_current, lambd)\n",
        "\n",
        "def logistic_classification_accuracy(X, y, theta_current):\n",
        "\n",
        "    tot=0\n",
        "    X_theta=np.matmul(X,theta_current)\n",
        "    for i in range(X.shape[0]):\n",
        "      if (X_theta[i]>=0.5):\n",
        "        X_theta[i]=1\n",
        "      else :\n",
        "        X_theta[i]=0\n",
        "    for i in range(X.shape[0]):\n",
        "      if (X_theta[i]==y[i]):\n",
        "        tot+=1  \n",
        "\n",
        "    return tot/X.shape[0] ## ! -- code required\n",
        "\n",
        "def run_MLE_gd(X, y, lambd, learning_rate = 0.01, max_epoch_n=200, init_theta=None):\n",
        "    theta = init_theta if init_theta is not None else np.ones((X.shape[1], 1))*5\n",
        "    steps = []\n",
        "    for epoch_n in range(max_epoch_n):\n",
        "        ## ! -- code required\n",
        "        l=logistic_loss_gradient(X,y,theta,lambd)\n",
        "        theta=theta-learning_rate*l.reshape(X.shape[1],1) \n",
        "        steps.append(theta)\n",
        "    return steps\n",
        "\n",
        "def run_MLE_sgd(X, y, lambd, learning_rate = 0.01, max_epoch_n=200, init_theta=None):\n",
        "    theta = init_theta if init_theta is not None else np.ones((X.shape[1], 1))*5\n",
        "    steps = []\n",
        "    for epoch_n in range(max_epoch_n):\n",
        "        for smaple_id in range(X.shape[0]):\n",
        "            ## ! -- code required\n",
        "            l=logistic_loss_single_gradient(X,y,smaple_id,theta,lambd)\n",
        "            theta=theta-learning_rate*l.reshape(X.shape[1],1)  \n",
        "        steps.append(theta)\n",
        "    return steps"
      ],
      "execution_count": 59,
      "outputs": []
    },
    {
      "cell_type": "markdown",
      "metadata": {
        "id": "ugE1uFxuPJRq"
      },
      "source": [
        "**Q4.1.1**: Plot (for 2D data) all the train and test set points and then plot the decision boundary on the same plot  by filling in the missing code below. Clearly indicate the train/test samples and positive/negative samples in the plot using different markers and colors."
      ]
    },
    {
      "cell_type": "code",
      "metadata": {
        "colab": {
          "base_uri": "https://localhost:8080/",
          "height": 1000
        },
        "id": "OC5zBGdOF1fJ",
        "jupyter": {
          "outputs_hidden": false
        },
        "outputId": "5094bb52-9e1e-459a-ccc4-191eefe99a99"
      },
      "source": [
        "import time\n",
        "\n",
        "def plot_decision_boundary(X_train, y_train, X_test, y_test, theta):\n",
        "    ## ! -- code required\n",
        "    x=X_train[y_train[:,0]==1]\n",
        "    plt.scatter(x[:,0],x[:,1], color = 'red',label=\"train(1)\")\n",
        "    x=X_test[y_test[:,0]==1]\n",
        "    plt.scatter(x[:,0],x[:,1], color = 'm',label=\"test(1)\")\n",
        "    x=X_train[y_train[:,0]==0]\n",
        "    plt.scatter(x[:,0],x[:,1], color = 'blue',label=\"train(0)\")\n",
        "    x=X_test[y_test[:,0]==0]\n",
        "    plt.scatter(x[:,0],x[:,1], color = 'c',label=\"test(0)\")\n",
        "    m=-theta[0]/theta[1]\n",
        "    xmin, xmax = -1, 1\n",
        "    ymin, ymax = -1, 1\n",
        "    xd = np.array([xmin, xmax])\n",
        "    yd = m*xd\n",
        "    plt.plot(xd, yd, 'k', lw=2, ls='--')\n",
        "    plt.legend()\n",
        "    plt.show()\n",
        "    \n",
        "\n",
        "\n",
        "def main():\n",
        "    for k_features in [2, 100]:\n",
        "        data_args = {'n_samples': 200, 'k_featues': k_features, 'sigma_eps': 0.3, \n",
        "                     'sigma_theta': 5, 'feature_correlation_rate': 0}\n",
        "        data = generate_logistic_regression_data(**data_args)\n",
        "        X_train, y_train, X_test, y_test, theta_real = data\n",
        "        lambd = 0\n",
        "        \n",
        "        now = time.perf_counter()\n",
        "        steps = run_MLE_gd(X_train, y_train, lambd, learning_rate=1e-3, max_epoch_n=1000)\n",
        "        losses = [float(logistic_loss(X_train, y_train, thetaa, lambd)) for thetaa in steps]\n",
        "        plt.plot(losses)\n",
        "        plt.title('GD mle_loss , k_featues = %d' % k_features)\n",
        "        plt.show()\n",
        "        print('gd runtime:', time.perf_counter() - now)\n",
        "\n",
        "        if k_features == 2:\n",
        "            ## ! -- code required\n",
        "            plot_decision_boundary(X_train,y_train,X_test,y_test,steps[-1])\n",
        "        \n",
        "        now = time.perf_counter()\n",
        "        steps = run_MLE_sgd(X_train, y_train, lambd, learning_rate=1e-3, max_epoch_n=1000)\n",
        "        losses = [float(logistic_loss(X_train, y_train, thetaa, lambd)) for thetaa in steps]\n",
        "        plt.plot(losses)\n",
        "        plt.title('SGD mle_loss , k_featues = %d' % k_features)\n",
        "        plt.show()\n",
        "        print('sgd runtime:', time.perf_counter() - now)\n",
        "        \n",
        "        plt.show()\n",
        "    \n",
        "main()"
      ],
      "execution_count": 73,
      "outputs": [
        {
          "output_type": "display_data",
          "data": {
            "image/png": "[encoded data removed]",
            "text/plain": [
              "<Figure size 432x288 with 1 Axes>"
            ]
          },
          "metadata": {
            "tags": [],
            "needs_background": "light"
          }
        },
        {
          "output_type": "stream",
          "text": [
            "gd runtime: 0.1374365179999586\n"
          ],
          "name": "stdout"
        },
        {
          "output_type": "display_data",
          "data": {
            "image/png": "[encoded data removed]",
            "text/plain": [
              "<Figure size 432x288 with 1 Axes>"
            ]
          },
          "metadata": {
            "tags": [],
            "needs_background": "light"
          }
        },
        {
          "output_type": "display_data",
          "data": {
            "image/png": "[encoded data removed]",
            "text/plain": [
              "<Figure size 432x288 with 1 Axes>"
            ]
          },
          "metadata": {
            "tags": [],
            "needs_background": "light"
          }
        },
        {
          "output_type": "stream",
          "text": [
            "sgd runtime: 1.7671685770001204\n"
          ],
          "name": "stdout"
        },
        {
          "output_type": "display_data",
          "data": {
            "image/png": "[encoded data removed]",
            "text/plain": [
              "<Figure size 432x288 with 1 Axes>"
            ]
          },
          "metadata": {
            "tags": [],
            "needs_background": "light"
          }
        },
        {
          "output_type": "stream",
          "text": [
            "gd runtime: 0.21723113000007288\n"
          ],
          "name": "stdout"
        },
        {
          "output_type": "display_data",
          "data": {
            "image/png": "[encoded data removed]",
            "text/plain": [
              "<Figure size 432x288 with 1 Axes>"
            ]
          },
          "metadata": {
            "tags": [],
            "needs_background": "light"
          }
        },
        {
          "output_type": "stream",
          "text": [
            "sgd runtime: 1.9053129740004806\n"
          ],
          "name": "stdout"
        }
      ]
    },
    {
      "cell_type": "markdown",
      "metadata": {
        "id": "AYZU79t7F1fK"
      },
      "source": [
        "**Q4.1.2**: We expect loss to gradually decrease. Re-run code above several times (sgd might work differently). Why is SGD slower than GD?"
      ]
    },
    {
      "cell_type": "markdown",
      "metadata": {
        "id": "m5mpyxI1F1fK"
      },
      "source": [
        "\n",
        "\n",
        "*   Stochastic gradient decent (SGD) approximate the gradient using only one data point. So, evaluating gradient saves a lot of time compared to summing over all data.\n",
        "*   If we do the same number of epochs, SGD won't be faster than GD, because the per-epoch computation complexity is same for SGD and GD. \n",
        "*   However, GD only does one iteration of gradient descent per epoch while SGD does n/m iterations(m is batch size). Those n/m iterations brings greater improvement than the single iteration of GD, even though each of the n/m iterations is probably worse than the single iteration of GD due to sampling.\n",
        "SGD is faster in the sense that it reaches the same accuracy quicker, with fewer epochs, than GD.\n",
        "\n"
      ]
    },
    {
      "cell_type": "markdown",
      "metadata": {
        "id": "DmJ4TaVBF1fL"
      },
      "source": [
        ".\n",
        "\n",
        ".\n",
        "\n",
        ".\n",
        "\n",
        "Wow, you made it this far. That is impressive. Congratulations!"
      ]
    }
  ]
}